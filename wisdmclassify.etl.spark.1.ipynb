{
    "cells": [
        {
            "cell_type": "code",
            "execution_count": 21,
            "metadata": {},
            "outputs": [
                {
                    "name": "stdout",
                    "output_type": "stream",
                    "text": "--2020-06-21 15:38:05--  https://archive.ics.uci.edu/ml/machine-learning-databases/00507/wisdm-dataset.zip\nResolving archive.ics.uci.edu (archive.ics.uci.edu)... 128.195.10.252\nConnecting to archive.ics.uci.edu (archive.ics.uci.edu)|128.195.10.252|:443... connected.\nHTTP request sent, awaiting response... 200 OK\nLength: 309713877 (295M) [application/x-httpd-php]\nSaving to: \u2018wisdm-dataset.zip.1\u2019\n\n100%[======================================>] 309,713,877 90.1MB/s   in 3.5s   \n\n2020-06-21 15:38:08 (84.4 MB/s) - \u2018wisdm-dataset.zip.1\u2019 saved [309713877/309713877]\n\n"
                }
            ],
            "source": "!wget https://archive.ics.uci.edu/ml/machine-learning-databases/00507/wisdm-dataset.zip"
        },
        {
            "cell_type": "code",
            "execution_count": 22,
            "metadata": {},
            "outputs": [
                {
                    "name": "stdout",
                    "output_type": "stream",
                    "text": "Archive:  wisdm-dataset.zip\nreplace wisdm-dataset/WISDM-dataset-description.pdf? [y]es, [n]o, [A]ll, [N]one, [r]ename: ^C\n"
                }
            ],
            "source": "! unzip wisdm-dataset.zip"
        },
        {
            "cell_type": "code",
            "execution_count": 23,
            "metadata": {},
            "outputs": [
                {
                    "name": "stdout",
                    "output_type": "stream",
                    "text": "phone  watch\r\n"
                }
            ],
            "source": "! ls wisdm-dataset/raw"
        },
        {
            "cell_type": "code",
            "execution_count": 27,
            "metadata": {},
            "outputs": [],
            "source": "import os"
        },
        {
            "cell_type": "code",
            "execution_count": 28,
            "metadata": {},
            "outputs": [
                {
                    "name": "stdout",
                    "output_type": "stream",
                    "text": "Requirement already satisfied: pyspark==2.4.5 in /opt/conda/envs/Python36/lib/python3.6/site-packages (2.4.5)\r\nRequirement already satisfied: py4j==0.10.7 in /opt/conda/envs/Python36/lib/python3.6/site-packages (from pyspark==2.4.5) (0.10.7)\r\n"
                }
            ],
            "source": "!pip install pyspark==2.4.5"
        },
        {
            "cell_type": "code",
            "execution_count": 29,
            "metadata": {},
            "outputs": [],
            "source": "try:\n    from pyspark import SparkContext, SparkConf\n    from pyspark.sql import SparkSession\nexcept ImportError as e:\n    printmd('<<<<<!!!!! Please restart your kernel after installing Apache Spark !!!!!>>>>>')"
        },
        {
            "cell_type": "code",
            "execution_count": 30,
            "metadata": {},
            "outputs": [],
            "source": "sc = SparkContext.getOrCreate(SparkConf().setMaster(\"local[*]\"))\n\nspark = SparkSession \\\n    .builder \\\n    .getOrCreate()"
        },
        {
            "cell_type": "code",
            "execution_count": 31,
            "metadata": {},
            "outputs": [],
            "source": "#OUR SCHEMA IS: subjectid,target,timestamp,x,y,z\nfrom pyspark.sql.types import StructType, StructField, IntegerType,StringType,DoubleType\nschema = StructType([\n    StructField(\"subjectid\",IntegerType(),True),\n    StructField(\"activity\",StringType(),True),\n    StructField(\"timestamp\",DoubleType(),True),\n    StructField(\"x\",DoubleType(),True),\n    StructField(\"y\",DoubleType(),True),\n    StructField(\"z\",StringType(),True)])#sets z value to string because last char is a ';', will remove in pandas later.\n"
        },
        {
            "cell_type": "code",
            "execution_count": 32,
            "metadata": {},
            "outputs": [
                {
                    "name": "stdout",
                    "output_type": "stream",
                    "text": "wisdm-dataset/raw/phone/accel/data_1627_accel_phone.txt\nwisdm-dataset/raw/phone/accel/data_1646_accel_phone.txt\nwisdm-dataset/raw/phone/accel/data_1635_accel_phone.txt\nwisdm-dataset/raw/phone/accel/data_1616_accel_phone.txt\nwisdm-dataset/raw/phone/accel/data_1629_accel_phone.txt\nwisdm-dataset/raw/phone/accel/data_1623_accel_phone.txt\nwisdm-dataset/raw/phone/accel/data_1606_accel_phone.txt\nwisdm-dataset/raw/phone/accel/data_1609_accel_phone.txt\nwisdm-dataset/raw/phone/accel/data_1630_accel_phone.txt\nwisdm-dataset/raw/phone/accel/data_1620_accel_phone.txt\nwisdm-dataset/raw/phone/accel/data_1639_accel_phone.txt\nwisdm-dataset/raw/phone/accel/data_1648_accel_phone.txt\nwisdm-dataset/raw/phone/accel/data_1615_accel_phone.txt\nwisdm-dataset/raw/phone/accel/data_1602_accel_phone.txt\nwisdm-dataset/raw/phone/accel/data_1643_accel_phone.txt\nwisdm-dataset/raw/phone/accel/data_1622_accel_phone.txt\nwisdm-dataset/raw/phone/accel/data_1650_accel_phone.txt\nwisdm-dataset/raw/phone/accel/data_1604_accel_phone.txt\nwisdm-dataset/raw/phone/accel/data_1641_accel_phone.txt\nwisdm-dataset/raw/phone/accel/data_1621_accel_phone.txt\nwisdm-dataset/raw/phone/accel/data_1626_accel_phone.txt\nwisdm-dataset/raw/phone/accel/data_1624_accel_phone.txt\nwisdm-dataset/raw/phone/accel/data_1618_accel_phone.txt\nwisdm-dataset/raw/phone/accel/data_1631_accel_phone.txt\nwisdm-dataset/raw/phone/accel/data_1638_accel_phone.txt\nwisdm-dataset/raw/phone/accel/data_1617_accel_phone.txt\nwisdm-dataset/raw/phone/accel/data_1647_accel_phone.txt\nwisdm-dataset/raw/phone/accel/data_1614_accel_phone.txt\nwisdm-dataset/raw/phone/accel/data_1644_accel_phone.txt\nwisdm-dataset/raw/phone/accel/.DS_Store\nwisdm-dataset/raw/phone/accel/data_1610_accel_phone.txt\nwisdm-dataset/raw/phone/accel/data_1633_accel_phone.txt\nwisdm-dataset/raw/phone/accel/data_1640_accel_phone.txt\nwisdm-dataset/raw/phone/accel/data_1628_accel_phone.txt\nwisdm-dataset/raw/phone/accel/data_1634_accel_phone.txt\nwisdm-dataset/raw/phone/accel/data_1600_accel_phone.txt\nwisdm-dataset/raw/phone/accel/data_1605_accel_phone.txt\nwisdm-dataset/raw/phone/accel/data_1611_accel_phone.txt\nwisdm-dataset/raw/phone/accel/data_1645_accel_phone.txt\nwisdm-dataset/raw/phone/accel/data_1619_accel_phone.txt\nwisdm-dataset/raw/phone/accel/data_1636_accel_phone.txt\nwisdm-dataset/raw/phone/accel/data_1612_accel_phone.txt\nwisdm-dataset/raw/phone/accel/data_1642_accel_phone.txt\nwisdm-dataset/raw/phone/accel/data_1608_accel_phone.txt\nwisdm-dataset/raw/phone/accel/data_1632_accel_phone.txt\nwisdm-dataset/raw/phone/accel/data_1637_accel_phone.txt\nwisdm-dataset/raw/phone/accel/data_1603_accel_phone.txt\nwisdm-dataset/raw/phone/accel/data_1613_accel_phone.txt\nwisdm-dataset/raw/phone/accel/data_1649_accel_phone.txt\nwisdm-dataset/raw/phone/accel/data_1601_accel_phone.txt\nwisdm-dataset/raw/phone/accel/data_1607_accel_phone.txt\nwisdm-dataset/raw/phone/accel/data_1625_accel_phone.txt\nwisdm-dataset/raw/phone/gyro/data_1650_gyro_phone.txt\nwisdm-dataset/raw/phone/gyro/data_1647_gyro_phone.txt\nwisdm-dataset/raw/phone/gyro/data_1627_gyro_phone.txt\nwisdm-dataset/raw/phone/gyro/data_1636_gyro_phone.txt\nwisdm-dataset/raw/phone/gyro/data_1640_gyro_phone.txt\nwisdm-dataset/raw/phone/gyro/data_1629_gyro_phone.txt\nwisdm-dataset/raw/phone/gyro/data_1635_gyro_phone.txt\nwisdm-dataset/raw/phone/gyro/data_1637_gyro_phone.txt\nwisdm-dataset/raw/phone/gyro/data_1617_gyro_phone.txt\nwisdm-dataset/raw/phone/gyro/data_1612_gyro_phone.txt\nwisdm-dataset/raw/phone/gyro/data_1622_gyro_phone.txt\nwisdm-dataset/raw/phone/gyro/data_1625_gyro_phone.txt\nwisdm-dataset/raw/phone/gyro/data_1615_gyro_phone.txt\nwisdm-dataset/raw/phone/gyro/data_1631_gyro_phone.txt\nwisdm-dataset/raw/phone/gyro/data_1600_gyro_phone.txt\nwisdm-dataset/raw/phone/gyro/data_1642_gyro_phone.txt\nwisdm-dataset/raw/phone/gyro/data_1649_gyro_phone.txt\nwisdm-dataset/raw/phone/gyro/data_1607_gyro_phone.txt\nwisdm-dataset/raw/phone/gyro/data_1620_gyro_phone.txt\nwisdm-dataset/raw/phone/gyro/data_1646_gyro_phone.txt\nwisdm-dataset/raw/phone/gyro/data_1605_gyro_phone.txt\nwisdm-dataset/raw/phone/gyro/data_1603_gyro_phone.txt\nwisdm-dataset/raw/phone/gyro/data_1619_gyro_phone.txt\nwisdm-dataset/raw/phone/gyro/data_1648_gyro_phone.txt\nwisdm-dataset/raw/phone/gyro/data_1614_gyro_phone.txt\nwisdm-dataset/raw/phone/gyro/data_1611_gyro_phone.txt\nwisdm-dataset/raw/phone/gyro/data_1606_gyro_phone.txt\nwisdm-dataset/raw/phone/gyro/data_1623_gyro_phone.txt\nwisdm-dataset/raw/phone/gyro/data_1602_gyro_phone.txt\nwisdm-dataset/raw/phone/gyro/data_1643_gyro_phone.txt\nwisdm-dataset/raw/phone/gyro/data_1641_gyro_phone.txt\nwisdm-dataset/raw/phone/gyro/data_1621_gyro_phone.txt\nwisdm-dataset/raw/phone/gyro/data_1626_gyro_phone.txt\nwisdm-dataset/raw/phone/gyro/data_1613_gyro_phone.txt\nwisdm-dataset/raw/phone/gyro/data_1634_gyro_phone.txt\nwisdm-dataset/raw/phone/gyro/data_1616_gyro_phone.txt\nwisdm-dataset/raw/phone/gyro/.DS_Store\nwisdm-dataset/raw/phone/gyro/data_1618_gyro_phone.txt\nwisdm-dataset/raw/phone/gyro/data_1604_gyro_phone.txt\nwisdm-dataset/raw/phone/gyro/data_1608_gyro_phone.txt\nwisdm-dataset/raw/phone/gyro/data_1638_gyro_phone.txt\nwisdm-dataset/raw/phone/gyro/data_1632_gyro_phone.txt\nwisdm-dataset/raw/phone/gyro/data_1601_gyro_phone.txt\nwisdm-dataset/raw/phone/gyro/data_1633_gyro_phone.txt\nwisdm-dataset/raw/phone/gyro/data_1610_gyro_phone.txt\nwisdm-dataset/raw/phone/gyro/data_1628_gyro_phone.txt\nwisdm-dataset/raw/phone/gyro/data_1645_gyro_phone.txt\nwisdm-dataset/raw/phone/gyro/data_1624_gyro_phone.txt\nwisdm-dataset/raw/phone/gyro/data_1639_gyro_phone.txt\nwisdm-dataset/raw/phone/gyro/data_1630_gyro_phone.txt\nwisdm-dataset/raw/phone/gyro/data_1609_gyro_phone.txt\nwisdm-dataset/raw/phone/gyro/data_1644_gyro_phone.txt\nwisdm-dataset/raw/watch/accel/data_1644_accel_watch.txt\nwisdm-dataset/raw/watch/accel/data_1650_accel_watch.txt\nwisdm-dataset/raw/watch/accel/data_1648_accel_watch.txt\nwisdm-dataset/raw/watch/accel/data_1641_accel_watch.txt\nwisdm-dataset/raw/watch/accel/data_1614_accel_watch.txt\nwisdm-dataset/raw/watch/accel/data_1607_accel_watch.txt\nwisdm-dataset/raw/watch/accel/data_1612_accel_watch.txt\nwisdm-dataset/raw/watch/accel/data_1625_accel_watch.txt\nwisdm-dataset/raw/watch/accel/data_1629_accel_watch.txt\nwisdm-dataset/raw/watch/accel/data_1600_accel_watch.txt\nwisdm-dataset/raw/watch/accel/data_1616_accel_watch.txt\nwisdm-dataset/raw/watch/accel/data_1618_accel_watch.txt\nwisdm-dataset/raw/watch/accel/data_1631_accel_watch.txt\nwisdm-dataset/raw/watch/accel/data_1617_accel_watch.txt\nwisdm-dataset/raw/watch/accel/data_1646_accel_watch.txt\nwisdm-dataset/raw/watch/accel/data_1626_accel_watch.txt\nwisdm-dataset/raw/watch/accel/data_1602_accel_watch.txt\nwisdm-dataset/raw/watch/accel/data_1635_accel_watch.txt\nwisdm-dataset/raw/watch/accel/data_1624_accel_watch.txt\nwisdm-dataset/raw/watch/accel/data_1636_accel_watch.txt\nwisdm-dataset/raw/watch/accel/data_1639_accel_watch.txt\nwisdm-dataset/raw/watch/accel/data_1608_accel_watch.txt\nwisdm-dataset/raw/watch/accel/data_1603_accel_watch.txt\nwisdm-dataset/raw/watch/accel/data_1610_accel_watch.txt\nwisdm-dataset/raw/watch/accel/data_1606_accel_watch.txt\nwisdm-dataset/raw/watch/accel/data_1601_accel_watch.txt\nwisdm-dataset/raw/watch/accel/data_1637_accel_watch.txt\nwisdm-dataset/raw/watch/accel/data_1640_accel_watch.txt\nwisdm-dataset/raw/watch/accel/data_1605_accel_watch.txt\nwisdm-dataset/raw/watch/accel/data_1609_accel_watch.txt\nwisdm-dataset/raw/watch/accel/data_1630_accel_watch.txt\nwisdm-dataset/raw/watch/accel/data_1604_accel_watch.txt\nwisdm-dataset/raw/watch/accel/data_1627_accel_watch.txt\nwisdm-dataset/raw/watch/accel/.DS_Store\nwisdm-dataset/raw/watch/accel/data_1621_accel_watch.txt\nwisdm-dataset/raw/watch/accel/data_1619_accel_watch.txt\nwisdm-dataset/raw/watch/accel/data_1613_accel_watch.txt\nwisdm-dataset/raw/watch/accel/data_1622_accel_watch.txt\nwisdm-dataset/raw/watch/accel/data_1623_accel_watch.txt\nwisdm-dataset/raw/watch/accel/data_1638_accel_watch.txt\nwisdm-dataset/raw/watch/accel/data_1611_accel_watch.txt\nwisdm-dataset/raw/watch/accel/data_1643_accel_watch.txt\nwisdm-dataset/raw/watch/accel/data_1642_accel_watch.txt\nwisdm-dataset/raw/watch/accel/data_1615_accel_watch.txt\nwisdm-dataset/raw/watch/accel/data_1649_accel_watch.txt\nwisdm-dataset/raw/watch/accel/data_1620_accel_watch.txt\nwisdm-dataset/raw/watch/accel/data_1628_accel_watch.txt\nwisdm-dataset/raw/watch/accel/data_1647_accel_watch.txt\nwisdm-dataset/raw/watch/accel/data_1645_accel_watch.txt\nwisdm-dataset/raw/watch/accel/data_1633_accel_watch.txt\nwisdm-dataset/raw/watch/accel/data_1634_accel_watch.txt\nwisdm-dataset/raw/watch/accel/data_1632_accel_watch.txt\nwisdm-dataset/raw/watch/gyro/data_1629_gyro_watch.txt\nwisdm-dataset/raw/watch/gyro/data_1639_gyro_watch.txt\nwisdm-dataset/raw/watch/gyro/data_1623_gyro_watch.txt\nwisdm-dataset/raw/watch/gyro/data_1645_gyro_watch.txt\nwisdm-dataset/raw/watch/gyro/data_1617_gyro_watch.txt\nwisdm-dataset/raw/watch/gyro/data_1606_gyro_watch.txt\nwisdm-dataset/raw/watch/gyro/data_1626_gyro_watch.txt\nwisdm-dataset/raw/watch/gyro/data_1624_gyro_watch.txt\nwisdm-dataset/raw/watch/gyro/data_1625_gyro_watch.txt\nwisdm-dataset/raw/watch/gyro/data_1616_gyro_watch.txt\nwisdm-dataset/raw/watch/gyro/data_1627_gyro_watch.txt\nwisdm-dataset/raw/watch/gyro/data_1611_gyro_watch.txt\nwisdm-dataset/raw/watch/gyro/data_1607_gyro_watch.txt\nwisdm-dataset/raw/watch/gyro/data_1634_gyro_watch.txt\nwisdm-dataset/raw/watch/gyro/data_1648_gyro_watch.txt\nwisdm-dataset/raw/watch/gyro/data_1649_gyro_watch.txt\nwisdm-dataset/raw/watch/gyro/data_1631_gyro_watch.txt\nwisdm-dataset/raw/watch/gyro/data_1610_gyro_watch.txt\nwisdm-dataset/raw/watch/gyro/data_1628_gyro_watch.txt\nwisdm-dataset/raw/watch/gyro/data_1630_gyro_watch.txt\nwisdm-dataset/raw/watch/gyro/data_1642_gyro_watch.txt\nwisdm-dataset/raw/watch/gyro/data_1632_gyro_watch.txt\nwisdm-dataset/raw/watch/gyro/data_1640_gyro_watch.txt\nwisdm-dataset/raw/watch/gyro/data_1605_gyro_watch.txt\nwisdm-dataset/raw/watch/gyro/data_1621_gyro_watch.txt\nwisdm-dataset/raw/watch/gyro/data_1614_gyro_watch.txt\nwisdm-dataset/raw/watch/gyro/data_1602_gyro_watch.txt\nwisdm-dataset/raw/watch/gyro/data_1635_gyro_watch.txt\nwisdm-dataset/raw/watch/gyro/data_1604_gyro_watch.txt\nwisdm-dataset/raw/watch/gyro/data_1646_gyro_watch.txt\nwisdm-dataset/raw/watch/gyro/data_1612_gyro_watch.txt\nwisdm-dataset/raw/watch/gyro/data_1644_gyro_watch.txt\nwisdm-dataset/raw/watch/gyro/.DS_Store\nwisdm-dataset/raw/watch/gyro/data_1613_gyro_watch.txt\nwisdm-dataset/raw/watch/gyro/data_1622_gyro_watch.txt\nwisdm-dataset/raw/watch/gyro/data_1638_gyro_watch.txt\nwisdm-dataset/raw/watch/gyro/data_1618_gyro_watch.txt\nwisdm-dataset/raw/watch/gyro/data_1603_gyro_watch.txt\nwisdm-dataset/raw/watch/gyro/data_1601_gyro_watch.txt\nwisdm-dataset/raw/watch/gyro/data_1641_gyro_watch.txt\nwisdm-dataset/raw/watch/gyro/data_1615_gyro_watch.txt\nwisdm-dataset/raw/watch/gyro/data_1633_gyro_watch.txt\nwisdm-dataset/raw/watch/gyro/data_1647_gyro_watch.txt\nwisdm-dataset/raw/watch/gyro/data_1637_gyro_watch.txt\nwisdm-dataset/raw/watch/gyro/data_1600_gyro_watch.txt\nwisdm-dataset/raw/watch/gyro/data_1643_gyro_watch.txt\nwisdm-dataset/raw/watch/gyro/data_1636_gyro_watch.txt\nwisdm-dataset/raw/watch/gyro/data_1619_gyro_watch.txt\nwisdm-dataset/raw/watch/gyro/data_1620_gyro_watch.txt\nwisdm-dataset/raw/watch/gyro/data_1609_gyro_watch.txt\nwisdm-dataset/raw/watch/gyro/data_1650_gyro_watch.txt\nwisdm-dataset/raw/watch/gyro/data_1608_gyro_watch.txt\nroot\n |-- subjectid: integer (nullable = true)\n |-- activity: string (nullable = true)\n |-- timestamp: double (nullable = true)\n |-- x: double (nullable = true)\n |-- y: double (nullable = true)\n |-- z: string (nullable = true)\n |-- type: string (nullable = false)\n |-- device: string (nullable = false)\n\n"
                }
            ],
            "source": "imported_df = None\n\nfrom pyspark.sql.functions import lit #allows strings/literal to apache spark dataframes\nfrom pyspark.sql.functions import regexp_replace\nfrom pyspark.sql.functions import expr\n\nraw_path = 'wisdm-dataset/raw/'\nfile_list_filtered = ['phone','watch']\ndevices = ['accel','gyro']\n\nfor category in file_list_filtered:\n    for device in devices:\n        path = raw_path+category+'/'+device\n        data_files = os.listdir(path)\n        \n        for data_file in data_files:\n            print(path+'/'+data_file)\n            temp_df = spark.read.csv(path+'/'+data_file, schema=schema)\n            temp_df = temp_df.withColumn('type',lit(category))\n            temp_df = temp_df.withColumn('device',lit(device))\n            \n            if imported_df is None:\n                imported_df = temp_df\n            else:\n                imported_df = imported_df.union(temp_df)\nimported_df.printSchema()"
        },
        {
            "cell_type": "code",
            "execution_count": 33,
            "metadata": {},
            "outputs": [
                {
                    "name": "stdout",
                    "output_type": "stream",
                    "text": "+---------+--------+-------------------+------------+----------+----------+-----+------+\n|subjectid|activity|          timestamp|           x|         y|         z| type|device|\n+---------+--------+-------------------+------------+----------+----------+-----+------+\n|     1627|       A|4.42607245307544E14|   4.5457916| -8.881348| -9.197556|phone| accel|\n|     1627|       A|4.42607265449146E14|-0.114730835|-12.393082| -8.104095|phone| accel|\n|     1627|       A|4.42607285590747E14|    1.510315|-13.205139| -6.772949|phone| accel|\n|     1627|       A|4.42607305732349E14|   2.7474518|-11.763794|-4.9213257|phone| accel|\n|     1627|       A|4.42607325873951E14|    3.040924| -9.194626|-5.7395935|phone| accel|\n|     1627|       A|4.42607346015552E14|   4.1273346| -9.052307|-5.5689545|phone| accel|\n|     1627|       A|4.42607366157154E14|    4.469742| -9.601379| -5.090271|phone| accel|\n|     1627|       A|4.42607386298755E14|   2.2313538| -9.543732|-3.5087433|phone| accel|\n|     1627|       A|4.42607406440357E14|   1.6048431|-6.9018707| -4.830475|phone| accel|\n|     1627|       A|4.42607426581958E14|   1.9582062| -4.675049|-4.6030426|phone| accel|\n|     1627|       A| 4.4260744672356E14|   1.9092712| -3.151123| -4.202072|phone| accel|\n|     1627|       A|4.42607466865162E14|   1.4701691|-2.5650787| -3.809082|phone| accel|\n|     1627|       A|4.42607487006763E14|   1.3713226|-2.9819794|-3.5961456|phone| accel|\n|     1627|       A|4.42607507148365E14|   2.0870056| -3.627533| -3.167694|phone| accel|\n|     1627|       A|4.42607527289966E14|    3.330368| -4.052124|-3.4524994|phone| accel|\n|     1627|       A|4.42607547431568E14|    4.284149|-4.4691467| -4.558441|phone| accel|\n|     1627|       A|4.42607567573169E14|   4.9775696|-4.5376587| -6.033188|phone| accel|\n|     1627|       A|4.42607587714771E14|   5.7387238|-4.9037933|-6.7051086|phone| accel|\n|     1627|       A|4.42607607856372E14|   5.5149384| -5.670807|-6.7794495|phone| accel|\n|     1627|       A|4.42607627997974E14|    6.001831| -7.005768| -6.860138|phone| accel|\n+---------+--------+-------------------+------------+----------+----------+-----+------+\nonly showing top 20 rows\n\n"
                }
            ],
            "source": "df = imported_df.withColumn('z', regexp_replace('z', ';', '')) #removes ';' from imported z column\ndf.withColumn(\"z\", expr(\"CAST(z AS DOUBLE)\"))\n\ndf.show()"
        },
        {
            "cell_type": "code",
            "execution_count": 35,
            "metadata": {},
            "outputs": [
                {
                    "name": "stdout",
                    "output_type": "stream",
                    "text": "+-------+------------------+--------+--------------------+-------------------+-------------------+------------------+--------+--------+\n|summary|         subjectid|activity|           timestamp|                  x|                  y|                 z|    type|  device|\n+-------+------------------+--------+--------------------+-------------------+-------------------+------------------+--------+--------+\n|  count|          15630426|15630426|            15630426|           15630426|           15630426|          15630426|15630426|15630426|\n|   mean|1626.2665032290226|    null|5.904472966529589E14|0.12915970569615745|-1.6078491830922514|  0.55704841220647|    null|    null|\n| stddev|14.788169916235487|    null|6.034456984771618E14|  4.792883900025532| 5.0252669309156754|3.9709000621404074|    null|    null|\n|    min|              1600|       A|    2.68102711042E11|          -78.47761|          -78.47761|     -0.0010000169|   phone|   accel|\n|    max|              1650|       S|2.724599224330653E15|           78.47761|           64.41166|          9.999982|   watch|    gyro|\n+-------+------------------+--------+--------------------+-------------------+-------------------+------------------+--------+--------+\n\n"
                }
            ],
            "source": "df.describe().show()"
        },
        {
            "cell_type": "code",
            "execution_count": 25,
            "metadata": {},
            "outputs": [
                {
                    "name": "stdout",
                    "output_type": "stream",
                    "text": "\u001b[0m\u001b[01;34mclassifyactivities.parquet\u001b[0m/  wisdm-dataset.zip\r\n\u001b[01;34mwisdm-dataset\u001b[0m/               wisdm-dataset.zip.1\r\n"
                }
            ],
            "source": "ls"
        },
        {
            "cell_type": "code",
            "execution_count": 18,
            "metadata": {},
            "outputs": [
                {
                    "name": "stdout",
                    "output_type": "stream",
                    "text": "part-00000-f963ecf1-3b5a-417b-99e3-2e540e9372d1-c000.snappy.parquet  _SUCCESS\r\n"
                }
            ],
            "source": "ls classifyactivities.parquet/"
        },
        {
            "cell_type": "code",
            "execution_count": null,
            "metadata": {},
            "outputs": [],
            "source": ""
        }
    ],
    "metadata": {
        "kernelspec": {
            "display_name": "Python 3.6",
            "language": "python",
            "name": "python3"
        },
        "language_info": {
            "codemirror_mode": {
                "name": "ipython",
                "version": 3
            },
            "file_extension": ".py",
            "mimetype": "text/x-python",
            "name": "python",
            "nbconvert_exporter": "python",
            "pygments_lexer": "ipython3",
            "version": "3.6.9"
        }
    },
    "nbformat": 4,
    "nbformat_minor": 1
}