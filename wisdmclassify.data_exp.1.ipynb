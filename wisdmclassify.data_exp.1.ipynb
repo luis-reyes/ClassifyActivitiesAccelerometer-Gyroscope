{
 "cells": [
  {
   "cell_type": "code",
   "execution_count": 3,
   "metadata": {},
   "outputs": [],
   "source": [
    "# save 2 files 1 for training the other for testing\n",
    "# plot each activity count\n",
    "# boxplot the activities, one plot for gyro one plot for accel"
   ]
  },
  {
   "cell_type": "code",
   "execution_count": 1,
   "metadata": {},
   "outputs": [
    {
     "name": "stdout",
     "output_type": "stream",
     "text": [
      "/bin/sh: 1: matplotlib: not found\n"
     ]
    }
   ],
   "source": [
    "import numpy as np\n",
    "import pandas as pd\n",
    "#pd.options.display.float_format = '{:.6f}'.format\n",
    "\n",
    "import os\n",
    "from time import time\n",
    "import pickle\n",
    "from scipy.stats import stats # for moments\n",
    "from collections import defaultdict\n",
    "from scipy.fftpack import rfft # only interested in real-value results\n",
    "import seaborn as sns\n",
    "import matplotlib.pyplot as plt\n",
    "\n",
    "!matplotlib inline"
   ]
  },
  {
   "cell_type": "code",
   "execution_count": 4,
   "metadata": {},
   "outputs": [
    {
     "name": "stdout",
     "output_type": "stream",
     "text": [
      "Collecting pyarrow\n",
      "\u001b[?25l  Downloading https://files.pythonhosted.org/packages/a8/20/ab0d36269ce333869496167e94316f6c9f4f60206c3238a48ce8b940dc21/pyarrow-0.17.1-cp36-cp36m-manylinux2010_x86_64.whl (64.2MB)\n",
      "\u001b[K     |████████████████████████████████| 64.2MB 6.9MB/s eta 0:00:01     |███████                         | 14.2MB 6.9MB/s eta 0:00:08  | 22.3MB 6.9MB/s eta 0:00:07��█████▊                    | 23.6MB 6.9MB/s eta 0:00:06��██████████████████████████▎ | 60.8MB 7.0MB/s eta 0:00:01\n",
      "\u001b[?25hRequirement already satisfied: numpy>=1.14 in /home/jupyterlab/conda/envs/python/lib/python3.6/site-packages (from pyarrow) (1.18.5)\n",
      "Installing collected packages: pyarrow\n",
      "Successfully installed pyarrow-0.17.1\n"
     ]
    }
   ],
   "source": [
    "!pip install pyarrow"
   ]
  },
  {
   "cell_type": "code",
   "execution_count": 5,
   "metadata": {},
   "outputs": [],
   "source": [
    "df = pd.read_parquet('classifyactivities.parquet', engine='pyarrow')"
   ]
  },
  {
   "cell_type": "code",
   "execution_count": 45,
   "metadata": {},
   "outputs": [
    {
     "data": {
      "text/html": [
       "<div>\n",
       "<style scoped>\n",
       "    .dataframe tbody tr th:only-of-type {\n",
       "        vertical-align: middle;\n",
       "    }\n",
       "\n",
       "    .dataframe tbody tr th {\n",
       "        vertical-align: top;\n",
       "    }\n",
       "\n",
       "    .dataframe thead th {\n",
       "        text-align: right;\n",
       "    }\n",
       "</style>\n",
       "<table border=\"1\" class=\"dataframe\">\n",
       "  <thead>\n",
       "    <tr style=\"text-align: right;\">\n",
       "      <th></th>\n",
       "      <th>subjectid</th>\n",
       "      <th>activity</th>\n",
       "      <th>timestamp</th>\n",
       "      <th>x</th>\n",
       "      <th>y</th>\n",
       "      <th>z</th>\n",
       "      <th>type</th>\n",
       "      <th>device</th>\n",
       "    </tr>\n",
       "  </thead>\n",
       "  <tbody>\n",
       "    <tr>\n",
       "      <th>0</th>\n",
       "      <td>1639</td>\n",
       "      <td>A</td>\n",
       "      <td>184964141163193</td>\n",
       "      <td>8.288427</td>\n",
       "      <td>-4.857087</td>\n",
       "      <td>9.167398</td>\n",
       "      <td>phone</td>\n",
       "      <td>accel</td>\n",
       "    </tr>\n",
       "    <tr>\n",
       "      <th>1</th>\n",
       "      <td>1639</td>\n",
       "      <td>A</td>\n",
       "      <td>184964190663193</td>\n",
       "      <td>14.506168</td>\n",
       "      <td>-13.624654</td>\n",
       "      <td>14.149732</td>\n",
       "      <td>phone</td>\n",
       "      <td>accel</td>\n",
       "    </tr>\n",
       "    <tr>\n",
       "      <th>2</th>\n",
       "      <td>1639</td>\n",
       "      <td>A</td>\n",
       "      <td>184964240163193</td>\n",
       "      <td>8.800786</td>\n",
       "      <td>-3.229030</td>\n",
       "      <td>4.376601</td>\n",
       "      <td>phone</td>\n",
       "      <td>accel</td>\n",
       "    </tr>\n",
       "    <tr>\n",
       "      <th>3</th>\n",
       "      <td>1639</td>\n",
       "      <td>A</td>\n",
       "      <td>184964289663193</td>\n",
       "      <td>18.195633</td>\n",
       "      <td>-11.740417</td>\n",
       "      <td>0.481235</td>\n",
       "      <td>phone</td>\n",
       "      <td>accel</td>\n",
       "    </tr>\n",
       "    <tr>\n",
       "      <th>4</th>\n",
       "      <td>1639</td>\n",
       "      <td>A</td>\n",
       "      <td>184964339163193</td>\n",
       "      <td>16.316185</td>\n",
       "      <td>-3.992780</td>\n",
       "      <td>-0.986411</td>\n",
       "      <td>phone</td>\n",
       "      <td>accel</td>\n",
       "    </tr>\n",
       "  </tbody>\n",
       "</table>\n",
       "</div>"
      ],
      "text/plain": [
       "   subjectid activity        timestamp          x          y          z  \\\n",
       "0       1639        A  184964141163193   8.288427  -4.857087   9.167398   \n",
       "1       1639        A  184964190663193  14.506168 -13.624654  14.149732   \n",
       "2       1639        A  184964240163193   8.800786  -3.229030   4.376601   \n",
       "3       1639        A  184964289663193  18.195633 -11.740417   0.481235   \n",
       "4       1639        A  184964339163193  16.316185  -3.992780  -0.986411   \n",
       "\n",
       "    type device  \n",
       "0  phone  accel  \n",
       "1  phone  accel  \n",
       "2  phone  accel  \n",
       "3  phone  accel  \n",
       "4  phone  accel  "
      ]
     },
     "execution_count": 45,
     "metadata": {},
     "output_type": "execute_result"
    }
   ],
   "source": [
    "df.z= df.z.astype(float)#previously noted z was object, changed it to float\n",
    "#df.timestamp= df.timestamp.astype(int)\n",
    "#df['timestamp']=pd.to_datetime(df['timestamp'],unit='mcs')\n",
    "\n",
    "df.head()"
   ]
  },
  {
   "cell_type": "code",
   "execution_count": 9,
   "metadata": {},
   "outputs": [
    {
     "data": {
      "text/html": [
       "<div>\n",
       "<style scoped>\n",
       "    .dataframe tbody tr th:only-of-type {\n",
       "        vertical-align: middle;\n",
       "    }\n",
       "\n",
       "    .dataframe tbody tr th {\n",
       "        vertical-align: top;\n",
       "    }\n",
       "\n",
       "    .dataframe thead th {\n",
       "        text-align: right;\n",
       "    }\n",
       "</style>\n",
       "<table border=\"1\" class=\"dataframe\">\n",
       "  <thead>\n",
       "    <tr style=\"text-align: right;\">\n",
       "      <th></th>\n",
       "      <th>subjectid</th>\n",
       "      <th>timestamp</th>\n",
       "      <th>x</th>\n",
       "      <th>y</th>\n",
       "      <th>z</th>\n",
       "    </tr>\n",
       "  </thead>\n",
       "  <tbody>\n",
       "    <tr>\n",
       "      <th>count</th>\n",
       "      <td>15630426.000000</td>\n",
       "      <td>15630426.000000</td>\n",
       "      <td>15630426.000000</td>\n",
       "      <td>15630426.000000</td>\n",
       "      <td>15630426.000000</td>\n",
       "    </tr>\n",
       "    <tr>\n",
       "      <th>mean</th>\n",
       "      <td>1626.266503</td>\n",
       "      <td>590447296652959.750000</td>\n",
       "      <td>0.129160</td>\n",
       "      <td>-1.607849</td>\n",
       "      <td>0.557048</td>\n",
       "    </tr>\n",
       "    <tr>\n",
       "      <th>std</th>\n",
       "      <td>14.788170</td>\n",
       "      <td>603445698477162.875000</td>\n",
       "      <td>4.792884</td>\n",
       "      <td>5.025267</td>\n",
       "      <td>3.970900</td>\n",
       "    </tr>\n",
       "    <tr>\n",
       "      <th>min</th>\n",
       "      <td>1600.000000</td>\n",
       "      <td>268102711042.000000</td>\n",
       "      <td>-78.477610</td>\n",
       "      <td>-78.477610</td>\n",
       "      <td>-78.477610</td>\n",
       "    </tr>\n",
       "    <tr>\n",
       "      <th>25%</th>\n",
       "      <td>1614.000000</td>\n",
       "      <td>107914533221983.000000</td>\n",
       "      <td>-1.423934</td>\n",
       "      <td>-4.157089</td>\n",
       "      <td>-0.640274</td>\n",
       "    </tr>\n",
       "    <tr>\n",
       "      <th>50%</th>\n",
       "      <td>1627.000000</td>\n",
       "      <td>370481792926658.000000</td>\n",
       "      <td>-0.001968</td>\n",
       "      <td>-0.129028</td>\n",
       "      <td>0.004527</td>\n",
       "    </tr>\n",
       "    <tr>\n",
       "      <th>75%</th>\n",
       "      <td>1639.000000</td>\n",
       "      <td>940768274718381.500000</td>\n",
       "      <td>1.293311</td>\n",
       "      <td>0.121321</td>\n",
       "      <td>1.786685</td>\n",
       "    </tr>\n",
       "    <tr>\n",
       "      <th>max</th>\n",
       "      <td>1650.000000</td>\n",
       "      <td>2724599224330653.000000</td>\n",
       "      <td>78.477610</td>\n",
       "      <td>64.411660</td>\n",
       "      <td>69.081950</td>\n",
       "    </tr>\n",
       "  </tbody>\n",
       "</table>\n",
       "</div>"
      ],
      "text/plain": [
       "             subjectid                timestamp                x  \\\n",
       "count  15630426.000000          15630426.000000  15630426.000000   \n",
       "mean       1626.266503   590447296652959.750000         0.129160   \n",
       "std          14.788170   603445698477162.875000         4.792884   \n",
       "min        1600.000000      268102711042.000000       -78.477610   \n",
       "25%        1614.000000   107914533221983.000000        -1.423934   \n",
       "50%        1627.000000   370481792926658.000000        -0.001968   \n",
       "75%        1639.000000   940768274718381.500000         1.293311   \n",
       "max        1650.000000  2724599224330653.000000        78.477610   \n",
       "\n",
       "                     y                z  \n",
       "count  15630426.000000  15630426.000000  \n",
       "mean         -1.607849         0.557048  \n",
       "std           5.025267         3.970900  \n",
       "min         -78.477610       -78.477610  \n",
       "25%          -4.157089        -0.640274  \n",
       "50%          -0.129028         0.004527  \n",
       "75%           0.121321         1.786685  \n",
       "max          64.411660        69.081950  "
      ]
     },
     "execution_count": 9,
     "metadata": {},
     "output_type": "execute_result"
    }
   ],
   "source": [
    "#format since data was displaying scientific notation\n",
    "df.describe().apply(lambda s: s.apply(lambda x: format(x, 'f')))"
   ]
  },
  {
   "cell_type": "code",
   "execution_count": 11,
   "metadata": {},
   "outputs": [
    {
     "data": {
      "text/plain": [
       "subjectid    0\n",
       "activity     0\n",
       "timestamp    0\n",
       "x            0\n",
       "y            0\n",
       "z            0\n",
       "type         0\n",
       "device       0\n",
       "dtype: int64"
      ]
     },
     "execution_count": 11,
     "metadata": {},
     "output_type": "execute_result"
    }
   ],
   "source": [
    "#check if there is missing data\n",
    "df.isnull().sum()"
   ]
  },
  {
   "cell_type": "markdown",
   "metadata": {},
   "source": [
    "walking = A,jogging = B,stairs = C,sitting = D,standing = E,typing = F,teeth = G,soup = H,chips = I,pasta = J,drinking = K,\n",
    "sandwich = L,kicking = M,catch = O,dribbling = P,writing = Q,clapping = R,folding = S\n",
    "\n",
    "x,y,z units are\n",
    "m/s2\n",
    ", while for the gyroscope sensor, the units are\n",
    "radians/s. Note that the force of gravity on Earth,\n",
    "which affects the accelerometer readings, is 9.8m/s2\n",
    "\n"
   ]
  },
  {
   "cell_type": "code",
   "execution_count": 12,
   "metadata": {},
   "outputs": [
    {
     "data": {
      "image/png": "[encoded data removed]",
      "text/plain": [
       "<Figure size 432x288 with 1 Axes>"
      ]
     },
     "metadata": {
      "needs_background": "light"
     },
     "output_type": "display_data"
    }
   ],
   "source": [
    "sns.countplot(x='activity', data=df)\n",
    "plt.title('Activity Chart')\n",
    "plt.ylabel('Total')\n",
    "plt.xlabel('Activity')\n",
    "plt.xticks(rotation = 90)\n",
    "plt.show();"
   ]
  },
  {
   "cell_type": "markdown",
   "metadata": {},
   "source": [
    "### shows accelerometer data from the watch for a single subject, performing the walking activity for 3 minutes"
   ]
  },
  {
   "cell_type": "code",
   "execution_count": 80,
   "metadata": {},
   "outputs": [
    {
     "data": {
      "text/html": [
       "<div>\n",
       "<style scoped>\n",
       "    .dataframe tbody tr th:only-of-type {\n",
       "        vertical-align: middle;\n",
       "    }\n",
       "\n",
       "    .dataframe tbody tr th {\n",
       "        vertical-align: top;\n",
       "    }\n",
       "\n",
       "    .dataframe thead th {\n",
       "        text-align: right;\n",
       "    }\n",
       "</style>\n",
       "<table border=\"1\" class=\"dataframe\">\n",
       "  <thead>\n",
       "    <tr style=\"text-align: right;\">\n",
       "      <th></th>\n",
       "      <th>x</th>\n",
       "      <th>y</th>\n",
       "      <th>z</th>\n",
       "    </tr>\n",
       "  </thead>\n",
       "  <tbody>\n",
       "    <tr>\n",
       "      <th>9075099</th>\n",
       "      <td>9.830592</td>\n",
       "      <td>-0.328305</td>\n",
       "      <td>2.001702</td>\n",
       "    </tr>\n",
       "    <tr>\n",
       "      <th>9075100</th>\n",
       "      <td>7.647080</td>\n",
       "      <td>-0.395343</td>\n",
       "      <td>1.233164</td>\n",
       "    </tr>\n",
       "    <tr>\n",
       "      <th>9075101</th>\n",
       "      <td>7.410054</td>\n",
       "      <td>0.270246</td>\n",
       "      <td>1.137396</td>\n",
       "    </tr>\n",
       "    <tr>\n",
       "      <th>9075102</th>\n",
       "      <td>7.240066</td>\n",
       "      <td>0.152930</td>\n",
       "      <td>0.725593</td>\n",
       "    </tr>\n",
       "    <tr>\n",
       "      <th>9075103</th>\n",
       "      <td>7.874529</td>\n",
       "      <td>0.301370</td>\n",
       "      <td>1.005714</td>\n",
       "    </tr>\n",
       "    <tr>\n",
       "      <th>9075104</th>\n",
       "      <td>8.975862</td>\n",
       "      <td>-0.117615</td>\n",
       "      <td>0.823755</td>\n",
       "    </tr>\n",
       "    <tr>\n",
       "      <th>9075105</th>\n",
       "      <td>11.008539</td>\n",
       "      <td>-0.366612</td>\n",
       "      <td>1.395969</td>\n",
       "    </tr>\n",
       "    <tr>\n",
       "      <th>9075106</th>\n",
       "      <td>9.600749</td>\n",
       "      <td>-0.373795</td>\n",
       "      <td>3.268235</td>\n",
       "    </tr>\n",
       "    <tr>\n",
       "      <th>9075107</th>\n",
       "      <td>12.768278</td>\n",
       "      <td>0.682048</td>\n",
       "      <td>4.175637</td>\n",
       "    </tr>\n",
       "    <tr>\n",
       "      <th>9075108</th>\n",
       "      <td>13.460202</td>\n",
       "      <td>1.448193</td>\n",
       "      <td>4.149301</td>\n",
       "    </tr>\n",
       "    <tr>\n",
       "      <th>9075109</th>\n",
       "      <td>11.293449</td>\n",
       "      <td>0.387561</td>\n",
       "      <td>3.443012</td>\n",
       "    </tr>\n",
       "    <tr>\n",
       "      <th>9075110</th>\n",
       "      <td>7.908048</td>\n",
       "      <td>0.509666</td>\n",
       "      <td>3.368791</td>\n",
       "    </tr>\n",
       "    <tr>\n",
       "      <th>9075111</th>\n",
       "      <td>6.825869</td>\n",
       "      <td>0.670077</td>\n",
       "      <td>3.299360</td>\n",
       "    </tr>\n",
       "    <tr>\n",
       "      <th>9075112</th>\n",
       "      <td>6.174646</td>\n",
       "      <td>0.303764</td>\n",
       "      <td>3.581875</td>\n",
       "    </tr>\n",
       "    <tr>\n",
       "      <th>9075113</th>\n",
       "      <td>7.328651</td>\n",
       "      <td>-0.507870</td>\n",
       "      <td>3.627365</td>\n",
       "    </tr>\n",
       "    <tr>\n",
       "      <th>9075114</th>\n",
       "      <td>9.883265</td>\n",
       "      <td>-0.436044</td>\n",
       "      <td>4.439000</td>\n",
       "    </tr>\n",
       "    <tr>\n",
       "      <th>9075115</th>\n",
       "      <td>12.931084</td>\n",
       "      <td>0.248698</td>\n",
       "      <td>5.142895</td>\n",
       "    </tr>\n",
       "    <tr>\n",
       "      <th>9075116</th>\n",
       "      <td>15.500062</td>\n",
       "      <td>0.088286</td>\n",
       "      <td>6.081422</td>\n",
       "    </tr>\n",
       "    <tr>\n",
       "      <th>9075117</th>\n",
       "      <td>14.956578</td>\n",
       "      <td>0.808941</td>\n",
       "      <td>3.694403</td>\n",
       "    </tr>\n",
       "    <tr>\n",
       "      <th>9075118</th>\n",
       "      <td>16.124949</td>\n",
       "      <td>1.816900</td>\n",
       "      <td>2.954595</td>\n",
       "    </tr>\n",
       "    <tr>\n",
       "      <th>9075119</th>\n",
       "      <td>15.902287</td>\n",
       "      <td>-0.816722</td>\n",
       "      <td>1.099088</td>\n",
       "    </tr>\n",
       "    <tr>\n",
       "      <th>9075120</th>\n",
       "      <td>14.458584</td>\n",
       "      <td>-0.275632</td>\n",
       "      <td>0.045639</td>\n",
       "    </tr>\n",
       "    <tr>\n",
       "      <th>9075121</th>\n",
       "      <td>10.031705</td>\n",
       "      <td>-0.723348</td>\n",
       "      <td>-0.509815</td>\n",
       "    </tr>\n",
       "    <tr>\n",
       "      <th>9075122</th>\n",
       "      <td>6.924031</td>\n",
       "      <td>-0.742502</td>\n",
       "      <td>-0.598401</td>\n",
       "    </tr>\n",
       "    <tr>\n",
       "      <th>9075123</th>\n",
       "      <td>6.318298</td>\n",
       "      <td>-1.192612</td>\n",
       "      <td>-0.567276</td>\n",
       "    </tr>\n",
       "    <tr>\n",
       "      <th>9075124</th>\n",
       "      <td>5.612009</td>\n",
       "      <td>-0.244508</td>\n",
       "      <td>-1.141885</td>\n",
       "    </tr>\n",
       "    <tr>\n",
       "      <th>9075125</th>\n",
       "      <td>6.363788</td>\n",
       "      <td>0.057162</td>\n",
       "      <td>-1.697339</td>\n",
       "    </tr>\n",
       "    <tr>\n",
       "      <th>9075126</th>\n",
       "      <td>6.646304</td>\n",
       "      <td>-0.785597</td>\n",
       "      <td>-1.960702</td>\n",
       "    </tr>\n",
       "    <tr>\n",
       "      <th>9075127</th>\n",
       "      <td>10.158598</td>\n",
       "      <td>-2.806304</td>\n",
       "      <td>-1.903241</td>\n",
       "    </tr>\n",
       "    <tr>\n",
       "      <th>9075128</th>\n",
       "      <td>11.657368</td>\n",
       "      <td>-3.040935</td>\n",
       "      <td>0.593912</td>\n",
       "    </tr>\n",
       "    <tr>\n",
       "      <th>9075129</th>\n",
       "      <td>18.339584</td>\n",
       "      <td>0.174477</td>\n",
       "      <td>0.500538</td>\n",
       "    </tr>\n",
       "    <tr>\n",
       "      <th>9075130</th>\n",
       "      <td>14.025233</td>\n",
       "      <td>2.987665</td>\n",
       "      <td>0.771083</td>\n",
       "    </tr>\n",
       "    <tr>\n",
       "      <th>9075131</th>\n",
       "      <td>10.668563</td>\n",
       "      <td>1.338059</td>\n",
       "      <td>0.055216</td>\n",
       "    </tr>\n",
       "    <tr>\n",
       "      <th>9075132</th>\n",
       "      <td>11.767501</td>\n",
       "      <td>-4.532523</td>\n",
       "      <td>-2.444330</td>\n",
       "    </tr>\n",
       "    <tr>\n",
       "      <th>9075133</th>\n",
       "      <td>8.664616</td>\n",
       "      <td>-7.305009</td>\n",
       "      <td>-1.747618</td>\n",
       "    </tr>\n",
       "    <tr>\n",
       "      <th>9075134</th>\n",
       "      <td>10.783484</td>\n",
       "      <td>-5.593154</td>\n",
       "      <td>-2.343774</td>\n",
       "    </tr>\n",
       "    <tr>\n",
       "      <th>9075135</th>\n",
       "      <td>10.441113</td>\n",
       "      <td>-6.620267</td>\n",
       "      <td>-3.076400</td>\n",
       "    </tr>\n",
       "    <tr>\n",
       "      <th>9075136</th>\n",
       "      <td>10.568006</td>\n",
       "      <td>-6.227618</td>\n",
       "      <td>-2.532916</td>\n",
       "    </tr>\n",
       "    <tr>\n",
       "      <th>9075137</th>\n",
       "      <td>10.754754</td>\n",
       "      <td>-3.634697</td>\n",
       "      <td>-1.558476</td>\n",
       "    </tr>\n",
       "    <tr>\n",
       "      <th>9075138</th>\n",
       "      <td>14.626178</td>\n",
       "      <td>-2.059313</td>\n",
       "      <td>-0.864157</td>\n",
       "    </tr>\n",
       "    <tr>\n",
       "      <th>9075139</th>\n",
       "      <td>12.921507</td>\n",
       "      <td>-1.786374</td>\n",
       "      <td>-0.809091</td>\n",
       "    </tr>\n",
       "    <tr>\n",
       "      <th>9075140</th>\n",
       "      <td>14.554352</td>\n",
       "      <td>-7.853281</td>\n",
       "      <td>-2.532916</td>\n",
       "    </tr>\n",
       "    <tr>\n",
       "      <th>9075141</th>\n",
       "      <td>18.346767</td>\n",
       "      <td>-3.601179</td>\n",
       "      <td>-3.246388</td>\n",
       "    </tr>\n",
       "    <tr>\n",
       "      <th>9075142</th>\n",
       "      <td>13.146562</td>\n",
       "      <td>0.708384</td>\n",
       "      <td>-1.247229</td>\n",
       "    </tr>\n",
       "    <tr>\n",
       "      <th>9075143</th>\n",
       "      <td>8.978256</td>\n",
       "      <td>-0.979528</td>\n",
       "      <td>-1.184980</td>\n",
       "    </tr>\n",
       "    <tr>\n",
       "      <th>9075144</th>\n",
       "      <td>8.099585</td>\n",
       "      <td>-1.080084</td>\n",
       "      <td>-1.855357</td>\n",
       "    </tr>\n",
       "    <tr>\n",
       "      <th>9075145</th>\n",
       "      <td>8.166622</td>\n",
       "      <td>-1.180641</td>\n",
       "      <td>-2.358139</td>\n",
       "    </tr>\n",
       "    <tr>\n",
       "      <th>9075146</th>\n",
       "      <td>8.056489</td>\n",
       "      <td>0.406715</td>\n",
       "      <td>-2.987814</td>\n",
       "    </tr>\n",
       "    <tr>\n",
       "      <th>9075147</th>\n",
       "      <td>8.477868</td>\n",
       "      <td>0.859219</td>\n",
       "      <td>-2.449119</td>\n",
       "    </tr>\n",
       "    <tr>\n",
       "      <th>9075148</th>\n",
       "      <td>7.754819</td>\n",
       "      <td>0.097863</td>\n",
       "      <td>-2.063652</td>\n",
       "    </tr>\n",
       "  </tbody>\n",
       "</table>\n",
       "</div>"
      ],
      "text/plain": [
       "                 x         y         z\n",
       "9075099   9.830592 -0.328305  2.001702\n",
       "9075100   7.647080 -0.395343  1.233164\n",
       "9075101   7.410054  0.270246  1.137396\n",
       "9075102   7.240066  0.152930  0.725593\n",
       "9075103   7.874529  0.301370  1.005714\n",
       "9075104   8.975862 -0.117615  0.823755\n",
       "9075105  11.008539 -0.366612  1.395969\n",
       "9075106   9.600749 -0.373795  3.268235\n",
       "9075107  12.768278  0.682048  4.175637\n",
       "9075108  13.460202  1.448193  4.149301\n",
       "9075109  11.293449  0.387561  3.443012\n",
       "9075110   7.908048  0.509666  3.368791\n",
       "9075111   6.825869  0.670077  3.299360\n",
       "9075112   6.174646  0.303764  3.581875\n",
       "9075113   7.328651 -0.507870  3.627365\n",
       "9075114   9.883265 -0.436044  4.439000\n",
       "9075115  12.931084  0.248698  5.142895\n",
       "9075116  15.500062  0.088286  6.081422\n",
       "9075117  14.956578  0.808941  3.694403\n",
       "9075118  16.124949  1.816900  2.954595\n",
       "9075119  15.902287 -0.816722  1.099088\n",
       "9075120  14.458584 -0.275632  0.045639\n",
       "9075121  10.031705 -0.723348 -0.509815\n",
       "9075122   6.924031 -0.742502 -0.598401\n",
       "9075123   6.318298 -1.192612 -0.567276\n",
       "9075124   5.612009 -0.244508 -1.141885\n",
       "9075125   6.363788  0.057162 -1.697339\n",
       "9075126   6.646304 -0.785597 -1.960702\n",
       "9075127  10.158598 -2.806304 -1.903241\n",
       "9075128  11.657368 -3.040935  0.593912\n",
       "9075129  18.339584  0.174477  0.500538\n",
       "9075130  14.025233  2.987665  0.771083\n",
       "9075131  10.668563  1.338059  0.055216\n",
       "9075132  11.767501 -4.532523 -2.444330\n",
       "9075133   8.664616 -7.305009 -1.747618\n",
       "9075134  10.783484 -5.593154 -2.343774\n",
       "9075135  10.441113 -6.620267 -3.076400\n",
       "9075136  10.568006 -6.227618 -2.532916\n",
       "9075137  10.754754 -3.634697 -1.558476\n",
       "9075138  14.626178 -2.059313 -0.864157\n",
       "9075139  12.921507 -1.786374 -0.809091\n",
       "9075140  14.554352 -7.853281 -2.532916\n",
       "9075141  18.346767 -3.601179 -3.246388\n",
       "9075142  13.146562  0.708384 -1.247229\n",
       "9075143   8.978256 -0.979528 -1.184980\n",
       "9075144   8.099585 -1.080084 -1.855357\n",
       "9075145   8.166622 -1.180641 -2.358139\n",
       "9075146   8.056489  0.406715 -2.987814\n",
       "9075147   8.477868  0.859219 -2.449119\n",
       "9075148   7.754819  0.097863 -2.063652"
      ]
     },
     "execution_count": 80,
     "metadata": {},
     "output_type": "execute_result"
    }
   ],
   "source": [
    "#lets show only  walking = A with the accelerometer for 1 subject, each activiy was done in approximatly 3 minutes, since the sampling rate is 20HZ which means 20s per reading we take the first minute to try and have less data\n",
    "ax = \\\n",
    "accel_walking = df.query('activity == \"A\" & device == \"accel\" & subjectid==1600 & type==\"watch\" ')\n",
    "\n",
    "#accel_walking = df.query('device == \"accel\" & subjectid==1600 & type==\"phone\" ')\n",
    "#1 minute = 60 seconds, 20hz*1minute=20*60=1200\n",
    "#accel_walking[['x','y','z']][:1200].plot(title = \"Subject 1600 Accel Walking\",\n",
    "#                                        figsize=(25,10));\n",
    "#plt.ylabel('Accel')\n",
    "#plt.xlabel('Time')\n",
    "#plt.show();\n",
    "accel_walking[['x','y','z']].tail(50)\n"
   ]
  },
  {
   "cell_type": "code",
   "execution_count": null,
   "metadata": {},
   "outputs": [],
   "source": [
    "#lets show only  walking = A with the accelerometer\n",
    "\n",
    "ax = \\\n",
    "gyro_walking = df.query('activity == \"A\" & device == \"gyro\" & subjectid==1600')\n",
    "\n",
    "gyro_walking[['x','y','z']].plot(title = \"Subject 1600 Gyro Walking\",\n",
    "                                        figsize=(15,5));\n",
    "\n",
    "plt.ylabel('Gyro')\n",
    "plt.xlabel('Time')\n",
    "plt.show();\n",
    "\n",
    "#ax.set_xlabel(\"Time (seconds)\")\n",
    "#ax.set_ylabel(\"Acceleration\");\n"
   ]
  },
  {
   "cell_type": "code",
   "execution_count": 20,
   "metadata": {},
   "outputs": [
    {
     "data": {
      "text/plain": [
       "(7179, 8)"
      ]
     },
     "execution_count": 20,
     "metadata": {},
     "output_type": "execute_result"
    }
   ],
   "source": [
    "accel_walking.shape"
   ]
  },
  {
   "cell_type": "code",
   "execution_count": null,
   "metadata": {},
   "outputs": [],
   "source": [
    "from pyspark.ml.feature import StringIndexer\n",
    "#transform data, integer representation\n",
    "indexer = StringIndexer(inputCol=\"type\",outputCol=\"typeindex\")\n",
    "indexed = indexer.fit(df).transform(df)\n",
    "indexed.show()"
   ]
  },
  {
   "cell_type": "code",
   "execution_count": 16,
   "metadata": {},
   "outputs": [
    {
     "data": {
      "text/plain": [
       "accel    8581449\n",
       "gyro     7048977\n",
       "Name: device, dtype: int64"
      ]
     },
     "execution_count": 16,
     "metadata": {},
     "output_type": "execute_result"
    }
   ],
   "source": [
    "df.device.value_counts()"
   ]
  },
  {
   "cell_type": "code",
   "execution_count": 18,
   "metadata": {},
   "outputs": [
    {
     "data": {
      "text/plain": [
       "<matplotlib.axes._subplots.AxesSubplot at 0x7f1932531908>"
      ]
     },
     "execution_count": 18,
     "metadata": {},
     "output_type": "execute_result"
    },
    {
     "data": {
      "image/png": "[encoded data removed]",
      "text/plain": [
       "<Figure size 432x288 with 1 Axes>"
      ]
     },
     "metadata": {
      "needs_background": "light"
     },
     "output_type": "display_data"
    }
   ],
   "source": [
    "df.type.hist()"
   ]
  },
  {
   "cell_type": "code",
   "execution_count": 19,
   "metadata": {},
   "outputs": [
    {
     "data": {
      "text/plain": [
       "<matplotlib.axes._subplots.AxesSubplot at 0x7f1932581e10>"
      ]
     },
     "execution_count": 19,
     "metadata": {},
     "output_type": "execute_result"
    },
    {
     "data": {
      "image/png": "[encoded data removed]",
      "text/plain": [
       "<Figure size 432x288 with 1 Axes>"
      ]
     },
     "metadata": {
      "needs_background": "light"
     },
     "output_type": "display_data"
    }
   ],
   "source": [
    "df.device.hist()"
   ]
  },
  {
   "cell_type": "code",
   "execution_count": 22,
   "metadata": {},
   "outputs": [
    {
     "data": {
      "text/plain": [
       "Index(['subjectid', 'activity', 'timestamp', 'x', 'y', 'z', 'type', 'device'], dtype='object')"
      ]
     },
     "execution_count": 22,
     "metadata": {},
     "output_type": "execute_result"
    }
   ],
   "source": [
    "df.columns"
   ]
  },
  {
   "cell_type": "code",
   "execution_count": null,
   "metadata": {},
   "outputs": [
    {
     "ename": "NameError",
     "evalue": "name 'pyplot' is not defined",
     "output_type": "error",
     "traceback": [
      "\u001b[0;31m---------------------------------------------------------------------------\u001b[0m",
      "\u001b[0;31mNameError\u001b[0m                                 Traceback (most recent call last)",
      "\u001b[0;32m<ipython-input-25-870648367635>\u001b[0m in \u001b[0;36m<module>\u001b[0;34m\u001b[0m\n\u001b[1;32m      2\u001b[0m \u001b[0mcolumns\u001b[0m \u001b[0;34m=\u001b[0m \u001b[0;34m[\u001b[0m\u001b[0;34m'x'\u001b[0m\u001b[0;34m,\u001b[0m\u001b[0;34m'y'\u001b[0m\u001b[0;34m,\u001b[0m\u001b[0;34m'z'\u001b[0m\u001b[0;34m]\u001b[0m\u001b[0;34m\u001b[0m\u001b[0;34m\u001b[0m\u001b[0m\n\u001b[1;32m      3\u001b[0m \u001b[0mscatter_matrix\u001b[0m\u001b[0;34m(\u001b[0m\u001b[0mdf\u001b[0m\u001b[0;34m[\u001b[0m\u001b[0mcolumns\u001b[0m\u001b[0;34m]\u001b[0m\u001b[0;34m,\u001b[0m    \u001b[0mfigsize\u001b[0m  \u001b[0;34m=\u001b[0m \u001b[0;34m[\u001b[0m\u001b[0;36m7\u001b[0m\u001b[0;34m,\u001b[0m \u001b[0;36m7\u001b[0m\u001b[0;34m]\u001b[0m\u001b[0;34m)\u001b[0m\u001b[0;34m\u001b[0m\u001b[0;34m\u001b[0m\u001b[0m\n\u001b[0;32m----> 4\u001b[0;31m \u001b[0mpyplot\u001b[0m\u001b[0;34m.\u001b[0m\u001b[0mshow\u001b[0m\u001b[0;34m(\u001b[0m\u001b[0;34m)\u001b[0m\u001b[0;34m\u001b[0m\u001b[0;34m\u001b[0m\u001b[0m\n\u001b[0m",
      "\u001b[0;31mNameError\u001b[0m: name 'pyplot' is not defined"
     ]
    }
   ],
   "source": [
    "from pandas.plotting import scatter_matrix\n",
    "columns = ['x','y','z']\n",
    "scatter_matrix(df[columns],    figsize  = [7, 7])\n",
    "pyplot.show()"
   ]
  },
  {
   "cell_type": "code",
   "execution_count": null,
   "metadata": {},
   "outputs": [],
   "source": []
  }
 ],
 "metadata": {
  "kernelspec": {
   "display_name": "Python",
   "language": "python",
   "name": "conda-env-python-py"
  },
  "language_info": {
   "codemirror_mode": {
    "name": "ipython",
    "version": 3
   },
   "file_extension": ".py",
   "mimetype": "text/x-python",
   "name": "python",
   "nbconvert_exporter": "python",
   "pygments_lexer": "ipython3",
   "version": "3.6.10"
  }
 },
 "nbformat": 4,
 "nbformat_minor": 4
}
