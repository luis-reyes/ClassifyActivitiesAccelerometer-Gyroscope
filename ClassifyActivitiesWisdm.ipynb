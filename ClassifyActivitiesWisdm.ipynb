{
 "cells": [
  {
   "cell_type": "markdown",
   "metadata": {},
   "source": [
    "# Classifying Physical Activities with Accelerometer and Gyroscope data\n",
    "\n",
    "### Table of contents\n",
    "* [Introduction / Usecase](#introduction)\n",
    "* [Data](#data)\n",
    "* [Initial Data Exploration](#ied)"
   ]
  },
  {
   "cell_type": "markdown",
   "metadata": {},
   "source": [
    "## Introduction / Usecase <a name=\"introduction\"></a>\n",
    "\n",
    "The objective of this project is to recognize and classify physical activities based on accelerometer and gyroscope data.\n",
    "\n",
    "Chicago is one of the largest cities of the united states with a population of over 2 and a half million people. Chicago has 77 communities grouped into 9 districts.  The city has reported more than 7 million crimes of every category since 2001, 259 thousand just in 2019.  Business Problem  We will deal with the decision of “Which community has had the least crimes in 2019”, finding the right community to move into or beginning a business entrepreneurship based on the security and venue(residence) density in each community. "
   ]
  },
  {
   "cell_type": "code",
   "execution_count": null,
   "metadata": {},
   "outputs": [],
   "source": []
  }
 ],
 "metadata": {
  "kernelspec": {
   "display_name": "Python",
   "language": "python",
   "name": "conda-env-python-py"
  },
  "language_info": {
   "codemirror_mode": {
    "name": "ipython",
    "version": 3
   },
   "file_extension": ".py",
   "mimetype": "text/x-python",
   "name": "python",
   "nbconvert_exporter": "python",
   "pygments_lexer": "ipython3",
   "version": "3.6.10"
  }
 },
 "nbformat": 4,
 "nbformat_minor": 4
}
